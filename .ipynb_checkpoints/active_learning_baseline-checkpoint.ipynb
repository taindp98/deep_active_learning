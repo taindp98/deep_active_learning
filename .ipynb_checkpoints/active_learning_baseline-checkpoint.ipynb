{
 "cells": [
  {
   "cell_type": "markdown",
   "metadata": {},
   "source": [
    "## Library & Framework"
   ]
  },
  {
   "cell_type": "code",
   "execution_count": 24,
   "metadata": {
    "execution": {
     "iopub.execute_input": "2021-09-03T10:50:13.628150Z",
     "iopub.status.busy": "2021-09-03T10:50:13.627496Z",
     "iopub.status.idle": "2021-09-03T10:50:13.638273Z",
     "shell.execute_reply": "2021-09-03T10:50:13.637394Z",
     "shell.execute_reply.started": "2021-09-03T10:50:13.628027Z"
    }
   },
   "outputs": [],
   "source": [
    "# from fastai.vision import *\n",
    "# from fastai.callbacks.hooks import *\n",
    "# import timm\n",
    "\n",
    "from fastprogress import progress_bar\n",
    "import pandas as pd\n",
    "import numpy as np\n",
    "from PIL import Image\n",
    "import os\n",
    "from glob import glob\n",
    "import cv2\n",
    "from tqdm import tqdm\n",
    "import multiprocessing as mp\n",
    "import pydicom\n",
    "\n",
    "## group sklearn\n",
    "\n",
    "import sklearn\n",
    "from sklearn.model_selection import train_test_split\n",
    "from sklearn.decomposition import PCA\n",
    "from sklearn.metrics import classification_report, f1_score\n",
    "from sklearn.metrics.pairwise import cosine_similarity\n",
    "from sklearn.cluster import KMeans\n",
    "from sklearn import metrics\n",
    "from sklearn.utils import class_weight\n",
    "## group torch\n",
    "\n",
    "import torch\n",
    "from torch import nn\n",
    "from torchvision import models\n",
    "from torchvision import transforms\n",
    "from torch.utils.data.dataset import Dataset\n",
    "from torch.utils.data.dataloader import DataLoader\n",
    "import torch.nn.functional as F\n",
    "from torch.optim import lr_scheduler\n"
   ]
  },
  {
   "cell_type": "markdown",
   "metadata": {},
   "source": [
    "## Hyper-parametters"
   ]
  },
  {
   "cell_type": "code",
   "execution_count": 25,
   "metadata": {
    "execution": {
     "iopub.execute_input": "2021-09-03T10:50:13.658745Z",
     "iopub.status.busy": "2021-09-03T10:50:13.658450Z",
     "iopub.status.idle": "2021-09-03T10:50:13.666491Z",
     "shell.execute_reply": "2021-09-03T10:50:13.665434Z",
     "shell.execute_reply.started": "2021-09-03T10:50:13.658696Z"
    }
   },
   "outputs": [],
   "source": [
    "config = {}\n",
    "\n",
    "config['project_path'] = '/kaggle/input/rsna-pneumonia-detection-challenge'\n",
    "config['img_input'] = os.path.join(config['project_path'],'stage_2_train_images')\n",
    "config['working'] = '/kaggle/working'\n",
    "\n",
    "\n",
    "config['size'] = 256\n",
    "\n",
    "config['batch_size'] = 24\n",
    "\n",
    "config['num_workers'] = 10\n",
    "\n",
    "config['num_classes'] = 2\n",
    "config['epochs'] = 2\n",
    "config['lr'] = 1e-3\n",
    "config['sch_lr'] = 0.9\n",
    "\n",
    "config['step_size_lr'] = 1\n",
    "\n",
    "config['pool'] = 6500\n",
    "\n",
    "config['nb_iterations'] = 5\n",
    "\n",
    "config['num_gist'] = 200\n",
    "\n",
    "config['initial_decay_rate'] = 0.1\n",
    "config['decay_rate'] = 0.1\n",
    "config['thresh'] = None\n",
    "\n",
    "config['discrim_ratio'] = 0.2\n",
    "\n",
    "config['muy'] = 0.5\n",
    "\n",
    "config['ite_momentum'] = 5\n",
    "\n",
    "config['thres_momentum'] = 0.8\n",
    "\n",
    "config['valid_ratio'] = 0.1\n",
    "\n",
    "config['thres'] = 0.5"
   ]
  },
  {
   "cell_type": "code",
   "execution_count": 26,
   "metadata": {
    "execution": {
     "iopub.execute_input": "2021-09-03T10:50:13.668870Z",
     "iopub.status.busy": "2021-09-03T10:50:13.668119Z",
     "iopub.status.idle": "2021-09-03T10:50:13.676233Z",
     "shell.execute_reply": "2021-09-03T10:50:13.675476Z",
     "shell.execute_reply.started": "2021-09-03T10:50:13.668823Z"
    }
   },
   "outputs": [],
   "source": [
    "pd.options.mode.chained_assignment = None  # default='warn'\n",
    "from warnings import simplefilter\n",
    "# ignore all future warnings\n",
    "simplefilter(action='ignore', category=FutureWarning)\n",
    "\n",
    "if torch.cuda.is_available():\n",
    "    device = torch.device('cuda')\n",
    "else:\n",
    "    device = torch.device('cpu')"
   ]
  },
  {
   "cell_type": "markdown",
   "metadata": {},
   "source": [
    "## Prepare dataframe\n",
    "\n",
    "The CSV file presents the dataset that has a few duplicate instances, this step wil preprocessing.\n",
    "\n",
    "There are 3 classes: Lung Opacity, Normal, and Not Lung Opacity/ Not Normal. I will treat it as 2 classes which is Positive (Lung Opacity) and Negative (Normal and Not Lung Opacity/ Not Normal).\n",
    "\n",
    "Follow the GOAL paper, I split the dataset to 2 subsets with ratio 9:1 by Uniform sampling method."
   ]
  },
  {
   "cell_type": "code",
   "execution_count": 27,
   "metadata": {
    "execution": {
     "iopub.execute_input": "2021-09-03T10:50:13.692276Z",
     "iopub.status.busy": "2021-09-03T10:50:13.692001Z",
     "iopub.status.idle": "2021-09-03T10:50:13.701456Z",
     "shell.execute_reply": "2021-09-03T10:50:13.700303Z",
     "shell.execute_reply.started": "2021-09-03T10:50:13.692252Z"
    }
   },
   "outputs": [],
   "source": [
    "def prepare_dataframe(config):\n",
    "    \n",
    "    df_ = pd.read_csv(os.path.join(config['project_path'],'stage_2_detailed_class_info.csv')).drop_duplicates(subset='patientId').reset_index(drop=True)\n",
    "    \n",
    "    df_['target'] = [1 if item == 'Lung Opacity' else 0 for item in list(df_['class'])]\n",
    "    \n",
    "    df_full, df_anno_valid = train_test_split(df_, test_size = config['valid_ratio'],random_state=0)\n",
    "        \n",
    "    df_anno_full, df_not_anno_full = train_test_split(df_full, test_size = config['anno_ratio'],random_state=0)\n",
    "    \n",
    "    df_not_anno_full['target'] = 0\n",
    "    \n",
    "    df_anno_used, _ = train_test_split(df_anno_full,test_size = (1 - config['used']/len(df_anno_full)))\n",
    "    \n",
    "    df_anno_train = df_anno_used.reset_index(drop=True)\n",
    "    \n",
    "    df_not_anno = df_not_anno_full\n",
    "\n",
    "    df_anno_train['is_valid'] = False\n",
    "    df_anno_train['is_anno'] = True\n",
    "    df_anno_train['is_track'] = False\n",
    "    df_anno_train['past_score'] = 0\n",
    "\n",
    "    df_anno_valid['is_valid'] = True\n",
    "    df_anno_valid['is_anno'] =True\n",
    "    df_anno_valid['is_track'] = False\n",
    "    df_anno_valid['past_score'] = 0\n",
    "\n",
    "    df_not_anno['is_valid'] = False\n",
    "    df_not_anno['is_anno'] = False\n",
    "    df_not_anno['is_track'] = False\n",
    "    df_not_anno['past_score'] = 0\n",
    "\n",
    "    df_concat = pd.concat([df_anno_train,df_anno_valid,df_not_anno]).reset_index(drop=True)\n",
    "    \n",
    "    print('Prepare dataframe: Done')\n",
    "    \n",
    "    return df_concat"
   ]
  },
  {
   "cell_type": "code",
   "execution_count": 28,
   "metadata": {
    "execution": {
     "iopub.execute_input": "2021-09-03T10:50:13.727122Z",
     "iopub.status.busy": "2021-09-03T10:50:13.726811Z",
     "iopub.status.idle": "2021-09-03T10:50:13.732385Z",
     "shell.execute_reply": "2021-09-03T10:50:13.731354Z",
     "shell.execute_reply.started": "2021-09-03T10:50:13.727093Z"
    }
   },
   "outputs": [],
   "source": [
    "def load_dicom(fname):\n",
    "    \n",
    "    fname = fname + '.dcm'\n",
    "    \n",
    "    dicom = pydicom.read_file(fname)\n",
    "    data = dicom.pixel_array\n",
    "    \n",
    "    data = data - np.min(data)\n",
    "    if np.max(data) != 0:\n",
    "        data = data / np.max(data)\n",
    "    \n",
    "    img_array = (data * 255).astype(np.uint8)\n",
    "    \n",
    "    return img_array"
   ]
  },
  {
   "cell_type": "code",
   "execution_count": 29,
   "metadata": {
    "execution": {
     "iopub.execute_input": "2021-09-03T10:50:13.734617Z",
     "iopub.status.busy": "2021-09-03T10:50:13.734259Z",
     "iopub.status.idle": "2021-09-03T10:50:13.746926Z",
     "shell.execute_reply": "2021-09-03T10:50:13.745964Z",
     "shell.execute_reply.started": "2021-09-03T10:50:13.734581Z"
    }
   },
   "outputs": [],
   "source": [
    "class pneuDataset(Dataset):\n",
    "    def __init__(self, dir_path, df, transforms=None, is_anno = True):\n",
    "        \"\"\"\n",
    "        param:\n",
    "            dir_path: is path of images\n",
    "            df: dataframe            \n",
    "            transform:\n",
    "            is_pool: anno/unanno\n",
    "        return:\n",
    "            img, fname, anno\n",
    "        \"\"\"\n",
    "        self.transforms = transforms\n",
    "\n",
    "        self.dir_path = dir_path\n",
    "\n",
    "        self.imgs = list(df['patientId'])\n",
    "        \n",
    "        self.annos = [np.array([item]) for item in list(df['target'])]\n",
    "        \n",
    "        self.is_anno = is_anno\n",
    "        \n",
    "    def __getitem__(self, idx):\n",
    "        \n",
    "        fname = os.path.join(self.dir_path, self.imgs[idx])\n",
    "        \n",
    "        img_array = load_dicom(fname)\n",
    "        \n",
    "        img = Image.fromarray(np.uint8(img_array)).convert('RGB')\n",
    "                \n",
    "        if self.transforms is not None:\n",
    "            img = self.transforms(img)\n",
    "        \n",
    "        if self.is_anno:\n",
    "            return img, self.imgs[idx], self.annos[idx]\n",
    "        else:\n",
    "            return img, self.imgs[idx]\n",
    "    \n",
    "    def __len__(self):\n",
    "        return len(self.imgs)"
   ]
  },
  {
   "cell_type": "code",
   "execution_count": 30,
   "metadata": {
    "execution": {
     "iopub.execute_input": "2021-09-03T10:50:13.797081Z",
     "iopub.status.busy": "2021-09-03T10:50:13.796676Z",
     "iopub.status.idle": "2021-09-03T10:50:13.815036Z",
     "shell.execute_reply": "2021-09-03T10:50:13.813980Z",
     "shell.execute_reply.started": "2021-09-03T10:50:13.797047Z"
    }
   },
   "outputs": [],
   "source": [
    "def create_dls(df_concat):\n",
    "    \"\"\"\n",
    "    custom dataset & dataloader\n",
    "    param:\n",
    "        df_concat: df_concat update follow iterations\n",
    "    return:\n",
    "        train_dl, valid_dl, pool_dl\n",
    "    \"\"\"\n",
    "    mean = [0.485, 0.456, 0.406]\n",
    "    std = [0.229, 0.224, 0.225]\n",
    "\n",
    "    train_transforms = transforms.Compose([\n",
    "                        transforms.Resize((config['size'],config['size'])),\n",
    "                        transforms.RandomHorizontalFlip(),\n",
    "                        transforms.ColorJitter(),\n",
    "                        transforms.ToTensor(),\n",
    "                        transforms.Normalize(mean, std)\n",
    "                        ])\n",
    "\n",
    "    valid_transforms = transforms.Compose([\n",
    "                        transforms.Resize((config['size'],config['size'])),\n",
    "                        transforms.ToTensor(),\n",
    "                        transforms.Normalize(mean, std)\n",
    "                        ])\n",
    "\n",
    "\n",
    "\n",
    "    df_anno_train = df_concat[(df_concat['is_anno']==True)&(df_concat['is_valid']==False)\n",
    "                                    ].reset_index(drop=True)\n",
    "    anno_train_ds = pneuDataset(\n",
    "                            dir_path = os.path.join(config['project_path'],'stage_2_train_images'),\n",
    "                            df = df_anno_train,\n",
    "                            transforms = train_transforms,\n",
    "                            is_anno = list(set(df_anno_train['is_anno']))[0]\n",
    "                        )\n",
    "\n",
    "    df_anno_valid = df_concat[(df_concat['is_anno']==True)&(df_concat['is_valid']==True)\n",
    "                                        ].reset_index(drop=True)\n",
    "    anno_valid_ds = pneuDataset(\n",
    "                            dir_path = os.path.join(config['project_path'],'stage_2_train_images'),\n",
    "                            df = df_anno_valid,\n",
    "                            transforms = valid_transforms,\n",
    "                            is_anno = list(set(df_anno_valid['is_anno']))[0]\n",
    "                        )\n",
    "    \n",
    "    ## full instances in pool\n",
    "    ## sample uniform\n",
    "    \n",
    "    df_pool = df_concat[df_concat['is_anno']==False].reset_index(drop=True)\n",
    "    \n",
    "    df_pool_uniform, _ = train_test_split(df_pool,test_size = (1 - config['pool']/len(df_pool)))\n",
    "    \n",
    "    df_pool_uniform = df_pool_uniform.reset_index(drop=True)\n",
    "\n",
    "    pool_ds = pneuDataset(\n",
    "                            dir_path = os.path.join(config['project_path'],'stage_2_train_images'),\n",
    "                            df = df_pool_uniform,\n",
    "                            transforms = valid_transforms,\n",
    "                            is_anno = list(set(df_pool['is_anno']))[0]\n",
    "                        )\n",
    "\n",
    "    anno_train_dl = DataLoader(\n",
    "                        anno_train_ds, \n",
    "                        batch_size=config['batch_size'], \n",
    "                        num_workers=config['num_workers']\n",
    "                        )\n",
    "    anno_valid_dl = DataLoader(\n",
    "                        anno_valid_ds, \n",
    "                        batch_size=config['batch_size'], \n",
    "                        num_workers=config['num_workers']\n",
    "                        )\n",
    "    \n",
    "    pool_dl = DataLoader(\n",
    "                        pool_ds, \n",
    "                        batch_size=config['batch_size'], \n",
    "                        num_workers=config['num_workers']\n",
    "                        )\n",
    "    \n",
    "    print('Train {0} neg / {1} pos'.format(\n",
    "        str(np.concatenate(anno_train_dl.dataset.annos,axis=0).tolist().count(0)),\n",
    "        str(np.concatenate(anno_train_dl.dataset.annos,axis=0).tolist().count(1))))\n",
    "    \n",
    "    print('Valid {0} neg / {1} pos'.format(\n",
    "        str(np.concatenate(anno_valid_dl.dataset.annos,axis=0).tolist().count(0)),\n",
    "        str(np.concatenate(anno_valid_dl.dataset.annos,axis=0).tolist().count(1))))\n",
    "    \n",
    "    print('Pool {} instances'.format(len(pool_dl.dataset.imgs)))\n",
    "\n",
    "    return anno_train_dl, anno_valid_dl, pool_dl"
   ]
  },
  {
   "cell_type": "code",
   "execution_count": 32,
   "metadata": {
    "execution": {
     "iopub.execute_input": "2021-09-03T10:50:13.834858Z",
     "iopub.status.busy": "2021-09-03T10:50:13.834470Z",
     "iopub.status.idle": "2021-09-03T10:50:13.843229Z",
     "shell.execute_reply": "2021-09-03T10:50:13.842349Z",
     "shell.execute_reply.started": "2021-09-03T10:50:13.834824Z"
    }
   },
   "outputs": [],
   "source": [
    "class customNet(nn.Module):\n",
    "    \n",
    "    def __init__(self, output_nodes):\n",
    "        super().__init__()\n",
    "        resnet = models.resnext50_32x4d(pretrained=True)\n",
    "        \n",
    "        resnet.fc = nn.Sequential(\n",
    "            nn.Dropout(p=0.2),\n",
    "            nn.Linear(in_features=resnet.fc.in_features, out_features=256),\n",
    "            nn.Dropout(p=0.2),\n",
    "            nn.Linear(in_features=256, out_features=output_nodes)\n",
    "        )\n",
    "        self.base_model = resnet\n",
    "        self.sigm = nn.Sigmoid()\n",
    "\n",
    "    def forward(self, x):\n",
    "        return self.sigm(self.base_model(x))"
   ]
  },
  {
   "cell_type": "code",
   "execution_count": 34,
   "metadata": {
    "execution": {
     "iopub.execute_input": "2021-09-03T10:50:13.872980Z",
     "iopub.status.busy": "2021-09-03T10:50:13.872681Z",
     "iopub.status.idle": "2021-09-03T10:50:13.883392Z",
     "shell.execute_reply": "2021-09-03T10:50:13.881150Z",
     "shell.execute_reply.started": "2021-09-03T10:50:13.872953Z"
    }
   },
   "outputs": [],
   "source": [
    "def moving_avg(past_score , model_score, muy = config['muy']):\n",
    "    return muy*past_score + (1-muy)*model_score\n",
    "\n",
    "def entropy(scores):\n",
    "    en = np.zeros(len(scores))\n",
    "    for idx in tqdm(range(0, len(scores))):\n",
    "        en[idx] = -scores[idx] * np.log(scores[idx])\n",
    "    return en\n",
    "\n",
    "def certain_set(en, thresh, initial_decay_rate, decay_rate):\n",
    "    # Threshold updating <-- review\n",
    "    if thresh == None:\n",
    "        thresh = max(en) - ((max(en) - min(en)) * initial_decay_rate)\n",
    "    else:\n",
    "        thresh = thresh + (max(en) - thresh) * decay_rate\n",
    "\n",
    "    return np.where(en < thresh)[0], thresh\n",
    "\n",
    "def moment_track_score(df, score_fnames):\n",
    "    \"\"\"\n",
    "    update confidence score by file names into df_concat\n",
    "    change is_track\n",
    "    if is_track == True --> use previous confidence score in df_concat\n",
    "    else previous confidence == current confidence\n",
    "    param:\n",
    "        df: df_concat\n",
    "        zip_conf_fnames: zip(confidence_score, fnames)\n",
    "    return:\n",
    "        df_concat\n",
    "    \"\"\"\n",
    "    \n",
    "    for model_score, fname in score_fnames:\n",
    "        \n",
    "        if df.loc[df['patientId'] == fname, 'is_track'] is True:  \n",
    "            past_score = df.loc[df['patientId'] == fname, 'past_score'].iloc[0]\n",
    "            df.loc[df['patientId'] == fname, 'past_score'] = moving_avg(past_score , model_score)\n",
    "        else:\n",
    "            df.loc[df['patientId'] == fname, 'is_track'] = True\n",
    "            df.loc[df['patientId'] == fname, 'past_score'] = model_score\n"
   ]
  },
  {
   "cell_type": "code",
   "execution_count": 35,
   "metadata": {
    "execution": {
     "iopub.execute_input": "2021-09-03T10:50:13.890054Z",
     "iopub.status.busy": "2021-09-03T10:50:13.889594Z",
     "iopub.status.idle": "2021-09-03T10:50:13.896141Z",
     "shell.execute_reply": "2021-09-03T10:50:13.894955Z",
     "shell.execute_reply.started": "2021-09-03T10:50:13.889960Z"
    }
   },
   "outputs": [],
   "source": [
    "# device"
   ]
  },
  {
   "cell_type": "code",
   "execution_count": 36,
   "metadata": {
    "execution": {
     "iopub.execute_input": "2021-09-03T10:50:13.964648Z",
     "iopub.status.busy": "2021-09-03T10:50:13.964295Z",
     "iopub.status.idle": "2021-09-03T10:50:13.986564Z",
     "shell.execute_reply": "2021-09-03T10:50:13.985619Z",
     "shell.execute_reply.started": "2021-09-03T10:50:13.964599Z"
    }
   },
   "outputs": [],
   "source": [
    "def train_one(model, optimizer, device, dataloader, df, is_goal=False, balance = True):\n",
    "    \"\"\"\n",
    "    train one epoch\n",
    "    param:\n",
    "        model\n",
    "        optimizer\n",
    "        criterion\n",
    "        device\n",
    "        dataloader\n",
    "        df: df_concat to track past_score\n",
    "    \"\"\"\n",
    "    \n",
    "    categories = np.concatenate(dataloader.dataset.annos,axis=0)\n",
    "    class_weights = class_weight.compute_class_weight('balanced',np.unique(categories).tolist(),categories)\n",
    "    class_weights = torch.tensor(class_weights[1]/class_weights[0],dtype=torch.float).to(device)\n",
    "    \n",
    "    if balance:\n",
    "        criterion = nn.BCELoss(weight = class_weights)\n",
    "    else:\n",
    "        criterion = nn.BCELoss()\n",
    "\n",
    "    model = model.train()\n",
    "    model = model.to(device)\n",
    "    \n",
    "    loss_one_epoch = []\n",
    "    \n",
    "    for imgs, fnames, targets in progress_bar(dataloader):\n",
    "        imgs, targets = imgs.to(device), targets.to(device)\n",
    "        optimizer.zero_grad()\n",
    "        conf_scores = model(imgs)\n",
    "#         optimizer.zero_grad()\n",
    "        \n",
    "        if is_goal:\n",
    "            model_scores = conf_scores.cpu().detach().numpy().tolist()\n",
    "            model_scores = [item[0] for item in model_scores]\n",
    "            score_fnames = list(zip(model_scores,fnames))\n",
    "            moment_track_score(df, score_fnames)\n",
    "\n",
    "            ## get score from df\n",
    "            moment_scores = []\n",
    "            for fname in fnames:\n",
    "                m_score = df.loc[df['patientId'] == fname, 'past_score'].iloc[0]\n",
    "                moment_scores.append([m_score])\n",
    "            moment_scores = torch.tensor(moment_scores,requires_grad=True).type(torch.float)\n",
    "            moment_scores = moment_scores.to(device)\n",
    "            loss_batch = criterion(moment_scores, targets.type(torch.float))\n",
    "            \n",
    "        else:\n",
    "            loss_batch = criterion(conf_scores, targets.type(torch.float))\n",
    "\n",
    "        loss_batch.backward()\n",
    "        optimizer.step()\n",
    "        \n",
    "        loss_one_epoch.append(loss_batch.item())\n",
    "    \n",
    "    loss_one_epoch_mean = np.mean(loss_one_epoch)\n",
    "    \n",
    "    return loss_one_epoch_mean\n",
    "\n",
    "def eval_one(model, device, dataloader, thres = config['thres'], balance = True):\n",
    "    \n",
    "    loss_one_epoch = []\n",
    "    \n",
    "    categories = np.concatenate(dataloader.dataset.annos,axis=0)\n",
    "    class_weights = class_weight.compute_class_weight('balanced',np.unique(categories).tolist(),categories)\n",
    "    class_weights = torch.tensor(class_weights[1]/class_weights[0],dtype=torch.float).to(device)\n",
    "    \n",
    "    if balance:\n",
    "        criterion = nn.BCELoss(weight = class_weights)\n",
    "    else:\n",
    "        criterion = nn.BCELoss()\n",
    "        \n",
    "    model.eval()\n",
    "    with torch.no_grad():\n",
    "        list_conf_score = []\n",
    "        list_targets = []\n",
    "        list_fnames = []\n",
    "\n",
    "        for imgs, fnames, targets in progress_bar(dataloader):\n",
    "            imgs, targets = imgs.to(device), targets.to(device)\n",
    "            conf_scores = model(imgs)\n",
    "            \n",
    "            loss_batch = criterion(conf_scores, targets.type(torch.float))\n",
    "            loss_one_epoch.append(loss_batch.item())\n",
    "            \n",
    "            list_conf_score.extend(conf_scores.cpu().numpy())\n",
    "            \n",
    "            list_targets.extend(targets.cpu().numpy())\n",
    "            list_fnames.extend(fnames)\n",
    "        \n",
    "        y_pred = np.array(list_conf_score)\n",
    "        y_true = np.array(list_targets)\n",
    "        y_pred = (y_pred >= thres).astype(np.uint8)\n",
    "        \n",
    "        f1 = metrics.f1_score(y_true, y_pred, average='binary')\n",
    "        \n",
    "        loss_one_epoch_mean = np.mean(loss_one_epoch)\n",
    "        \n",
    "        list_conf_score = [item.item() for item in list_conf_score]\n",
    "        \n",
    "    return list_conf_score, list_fnames, loss_one_epoch_mean, f1\n",
    "\n",
    "def pred_pool(model, device, dataloader, thres = 0.5):\n",
    "    \n",
    "    model.eval()\n",
    "    with torch.no_grad():\n",
    "        list_conf_score = []\n",
    "        list_fnames = []\n",
    "        for imgs, fnames in progress_bar(dataloader):\n",
    "            imgs = imgs.to(device)\n",
    "            conf_scores = model(imgs)\n",
    "            \n",
    "            list_conf_score.extend(conf_scores.cpu().numpy())\n",
    "            list_fnames.extend(fnames)\n",
    "                        \n",
    "        list_conf_score = np.array([item.item() for item in list_conf_score])\n",
    "        pred_categories = (list_conf_score >= thres).astype(np.uint8)\n",
    "        \n",
    "    return list_conf_score, list_fnames, pred_categories"
   ]
  },
  {
   "cell_type": "code",
   "execution_count": 37,
   "metadata": {
    "execution": {
     "iopub.execute_input": "2021-09-03T10:50:13.990611Z",
     "iopub.status.busy": "2021-09-03T10:50:13.989486Z",
     "iopub.status.idle": "2021-09-03T10:50:13.998660Z",
     "shell.execute_reply": "2021-09-03T10:50:13.997857Z",
     "shell.execute_reply.started": "2021-09-03T10:50:13.989752Z"
    }
   },
   "outputs": [],
   "source": [
    "# from matplotlib import pyplot as plt\n",
    "# plt.plot(list(range(len(list_conf_score))),np.sort(en))"
   ]
  },
  {
   "cell_type": "code",
   "execution_count": 38,
   "metadata": {
    "execution": {
     "iopub.execute_input": "2021-09-03T10:50:14.003984Z",
     "iopub.status.busy": "2021-09-03T10:50:14.003623Z",
     "iopub.status.idle": "2021-09-03T10:50:14.012586Z",
     "shell.execute_reply": "2021-09-03T10:50:14.011498Z",
     "shell.execute_reply.started": "2021-09-03T10:50:14.003956Z"
    }
   },
   "outputs": [],
   "source": [
    "def feature_extractor(model, dataloader, is_train = True):\n",
    "    \n",
    "    backbone = nn.Sequential(*list(model.base_model.children())[:-1])\n",
    "    \n",
    "    list_features = []\n",
    "    list_categories = []\n",
    "    \n",
    "    fnames = []\n",
    "    \n",
    "    if is_train:\n",
    "        for x, f, y in progress_bar(dataloader):\n",
    "            x, y = x.cuda(), y.cuda()\n",
    "            backbone = backbone.cuda()\n",
    "\n",
    "            feature = backbone(x).detach().cpu().squeeze()\n",
    "            \n",
    "            list_features.append(feature)\n",
    "            \n",
    "            list_categories.append(y.detach().cpu())\n",
    "            \n",
    "            fnames += f\n",
    "\n",
    "        features = np.concatenate(list_features,axis=0)\n",
    "        categories = np.concatenate(list_categories,axis=0)\n",
    "        \n",
    "        return features, fnames, categories\n",
    "    \n",
    "    else:\n",
    "        for x, f in progress_bar(dataloader):\n",
    "            x  = x.cuda()\n",
    "            backbone = backbone.cuda()\n",
    "\n",
    "            feature = backbone(x).detach().cpu().squeeze()\n",
    "\n",
    "            list_features.append(feature)\n",
    "            \n",
    "            fnames += f\n",
    "            \n",
    "        features = np.concatenate(list_features,axis=0)\n",
    "        \n",
    "        return features, fnames"
   ]
  },
  {
   "cell_type": "code",
   "execution_count": 39,
   "metadata": {
    "execution": {
     "iopub.execute_input": "2021-09-03T10:50:14.014982Z",
     "iopub.status.busy": "2021-09-03T10:50:14.014460Z",
     "iopub.status.idle": "2021-09-03T10:50:14.022949Z",
     "shell.execute_reply": "2021-09-03T10:50:14.021976Z",
     "shell.execute_reply.started": "2021-09-03T10:50:14.014943Z"
    }
   },
   "outputs": [],
   "source": [
    "# features, fnames = feature_extractor(model, pool_dl, is_train = False)"
   ]
  },
  {
   "cell_type": "code",
   "execution_count": 40,
   "metadata": {
    "execution": {
     "iopub.execute_input": "2021-09-03T10:50:14.040210Z",
     "iopub.status.busy": "2021-09-03T10:50:14.039946Z",
     "iopub.status.idle": "2021-09-03T10:50:14.049398Z",
     "shell.execute_reply": "2021-09-03T10:50:14.048414Z",
     "shell.execute_reply.started": "2021-09-03T10:50:14.040183Z"
    }
   },
   "outputs": [],
   "source": [
    "def gist_clustering(\n",
    "        feature_gist, \n",
    "        fnames_gist, \n",
    "        category_gist,\n",
    "        feature_train, \n",
    "        categories_train):\n",
    "    \n",
    "    pos_idx = np.where(categories_train == 1)[0]\n",
    "    neg_idx = np.where(categories_train == 0)[0]\n",
    "\n",
    "    pos_feature = feature_train[pos_idx]\n",
    "    neg_feature = feature_train[neg_idx]\n",
    "\n",
    "    all_vectors = np.concatenate([pos_feature, neg_feature])\n",
    "    \n",
    "    kmeans = KMeans(n_clusters = 2 ,random_state=0).fit(all_vectors)\n",
    "    labels = kmeans.predict(all_vectors)\n",
    "    \n",
    "    centroids = kmeans.cluster_centers_\n",
    "    \n",
    "    gist_distances= []\n",
    "    \n",
    "    pos_centroid = np.mean(pos_feature,axis=0)\n",
    "    \n",
    "    neg_centroid = np.mean(neg_feature,axis=0)\n",
    "    \n",
    "    ## verify centroids\n",
    "    \n",
    "    verify_centroids = {}\n",
    "    \n",
    "    if np.linalg.norm(pos_centroid-centroids[0]) < np.linalg.norm(pos_centroid-centroids[1]):\n",
    "        pos_centroid = centroids[0]\n",
    "        neg_centroid = centroids[1]\n",
    "    else:\n",
    "        pos_centroid = centroids[1]\n",
    "        neg_centroid = centroids[0]\n",
    "    \n",
    "    kmeans_preds_class = kmeans.predict(feature_gist)\n",
    "    \n",
    "    cmp_categories = np.array(category_gist) == np.array(kmeans_preds_class)\n",
    "    \n",
    "    fnames_verify = np.array(fnames_gist)[cmp_categories]\n",
    "    \n",
    "    categories_verify = np.array(category_gist)[cmp_categories]\n",
    "    \n",
    "    return fnames_verify, categories_verify"
   ]
  },
  {
   "cell_type": "code",
   "execution_count": 41,
   "metadata": {
    "execution": {
     "iopub.execute_input": "2021-09-03T10:50:14.051814Z",
     "iopub.status.busy": "2021-09-03T10:50:14.051395Z",
     "iopub.status.idle": "2021-09-03T10:50:14.059648Z",
     "shell.execute_reply": "2021-09-03T10:50:14.058764Z",
     "shell.execute_reply.started": "2021-09-03T10:50:14.051767Z"
    }
   },
   "outputs": [],
   "source": [
    "# a = np.array([0,0,1,1])\n",
    "# b = np.array([0,0,0,1])\n",
    "# cmp = a == b\n",
    "# # cmp = np.where(cmp==True)[0]\n",
    "# print(cmp)\n",
    "# c = np.array(['a','b','c','d'])\n",
    "# c[cmp.astype(int)]"
   ]
  },
  {
   "cell_type": "code",
   "execution_count": 42,
   "metadata": {
    "execution": {
     "iopub.execute_input": "2021-09-03T10:50:14.080606Z",
     "iopub.status.busy": "2021-09-03T10:50:14.080190Z",
     "iopub.status.idle": "2021-09-03T10:50:14.085690Z",
     "shell.execute_reply": "2021-09-03T10:50:14.084728Z",
     "shell.execute_reply.started": "2021-09-03T10:50:14.080575Z"
    }
   },
   "outputs": [],
   "source": [
    "def gist_selection(X_gist_set, model, category_gist, anno_train_dl, pool_dl):\n",
    "    \n",
    "    feature_train, fnames_train, categories_train = feature_extractor(model, anno_train_dl, is_train = True)\n",
    "\n",
    "    feature_gist, fnames_gist = feature_extractor(model, pool_dl, is_train = False)\n",
    "    \n",
    "    X_gist, y_gist = gist_clustering(\n",
    "                    feature_gist, \n",
    "                    fnames_gist, \n",
    "                    category_gist,\n",
    "                    feature_train, \n",
    "                    categories_train)\n",
    "    \n",
    "    return X_gist, y_gist"
   ]
  },
  {
   "cell_type": "code",
   "execution_count": 43,
   "metadata": {
    "execution": {
     "iopub.execute_input": "2021-09-03T10:50:14.087990Z",
     "iopub.status.busy": "2021-09-03T10:50:14.087379Z",
     "iopub.status.idle": "2021-09-03T10:50:14.095415Z",
     "shell.execute_reply": "2021-09-03T10:50:14.094601Z",
     "shell.execute_reply.started": "2021-09-03T10:50:14.087951Z"
    }
   },
   "outputs": [],
   "source": [
    "def query_update(df, fnames, labels):\n",
    "    \n",
    "    ## Update df_concat & move image from pool --> used\n",
    "    \n",
    "    for fname, label in tqdm(zip(fnames, labels),total = len(fnames)):\n",
    "\n",
    "        df.loc[df['patientId'] == fname, 'target'] = label\n",
    "        df.loc[df['patientId'] == fname, 'is_valid'] = False\n",
    "        df.loc[df['patientId'] == fname, 'is_anno'] = True\n",
    "    \n",
    "    print('Pseudo-labeling {} instances: Done'.format(len(fnames)))\n",
    "    \n",
    "    return df"
   ]
  },
  {
   "cell_type": "code",
   "execution_count": null,
   "metadata": {
    "execution": {
     "iopub.execute_input": "2021-09-03T10:50:14.152360Z",
     "iopub.status.busy": "2021-09-03T10:50:14.152049Z"
    }
   },
   "outputs": [
    {
     "name": "stderr",
     "output_type": "stream",
     "text": [
      "0it [00:00, ?it/s]"
     ]
    },
    {
     "name": "stdout",
     "output_type": "stream",
     "text": [
      "================================================================================\n",
      "Experiments with 2399 samples annotation\n",
      "Prepare dataframe: Done\n",
      "**********\n",
      "Active learning iteration: 0\n",
      "Pseudo-labeling 0 instances: Done\n",
      "Train 1845 neg / 553 pos\n",
      "Valid 2055 neg / 614 pos\n",
      "Pool 6499 instances\n"
     ]
    },
    {
     "name": "stderr",
     "output_type": "stream",
     "text": [
      "\n"
     ]
    },
    {
     "name": "stdout",
     "output_type": "stream",
     "text": [
      "**********\n",
      "Training epoch 0 with learning rate 0.001\n"
     ]
    },
    {
     "data": {
      "text/html": [
       "\n",
       "    <div>\n",
       "        <style>\n",
       "            /* Turns off some styling */\n",
       "            progress {\n",
       "                /* gets rid of default border in Firefox and Opera. */\n",
       "                border: none;\n",
       "                /* Needs to be in here for Safari polyfill so background images work as expected. */\n",
       "                background-size: auto;\n",
       "            }\n",
       "            .progress-bar-interrupted, .progress-bar-interrupted::-webkit-progress-bar {\n",
       "                background: #F44336;\n",
       "            }\n",
       "        </style>\n",
       "      <progress value='100' class='' max='100' style='width:300px; height:20px; vertical-align: middle;'></progress>\n",
       "      100.00% [100/100 01:06<00:00]\n",
       "    </div>\n",
       "    "
      ],
      "text/plain": [
       "<IPython.core.display.HTML object>"
      ]
     },
     "metadata": {},
     "output_type": "display_data"
    },
    {
     "data": {
      "text/html": [
       "\n",
       "    <div>\n",
       "        <style>\n",
       "            /* Turns off some styling */\n",
       "            progress {\n",
       "                /* gets rid of default border in Firefox and Opera. */\n",
       "                border: none;\n",
       "                /* Needs to be in here for Safari polyfill so background images work as expected. */\n",
       "                background-size: auto;\n",
       "            }\n",
       "            .progress-bar-interrupted, .progress-bar-interrupted::-webkit-progress-bar {\n",
       "                background: #F44336;\n",
       "            }\n",
       "        </style>\n",
       "      <progress value='100' class='' max='100' style='width:300px; height:20px; vertical-align: middle;'></progress>\n",
       "      100.00% [100/100 00:46<00:00]\n",
       "    </div>\n",
       "    "
      ],
      "text/plain": [
       "<IPython.core.display.HTML object>"
      ]
     },
     "metadata": {},
     "output_type": "display_data"
    },
    {
     "name": "stdout",
     "output_type": "stream",
     "text": [
      "Train Loss: 1.664 | Valid Loss: 0.713\n",
      "F1-Score: 0.364\n",
      "**********\n",
      "Training epoch 1 with learning rate 0.0008\n"
     ]
    },
    {
     "data": {
      "text/html": [
       "\n",
       "    <div>\n",
       "        <style>\n",
       "            /* Turns off some styling */\n",
       "            progress {\n",
       "                /* gets rid of default border in Firefox and Opera. */\n",
       "                border: none;\n",
       "                /* Needs to be in here for Safari polyfill so background images work as expected. */\n",
       "                background-size: auto;\n",
       "            }\n",
       "            .progress-bar-interrupted, .progress-bar-interrupted::-webkit-progress-bar {\n",
       "                background: #F44336;\n",
       "            }\n",
       "        </style>\n",
       "      <progress value='100' class='' max='100' style='width:300px; height:20px; vertical-align: middle;'></progress>\n",
       "      100.00% [100/100 01:05<00:00]\n",
       "    </div>\n",
       "    "
      ],
      "text/plain": [
       "<IPython.core.display.HTML object>"
      ]
     },
     "metadata": {},
     "output_type": "display_data"
    },
    {
     "data": {
      "text/html": [
       "\n",
       "    <div>\n",
       "        <style>\n",
       "            /* Turns off some styling */\n",
       "            progress {\n",
       "                /* gets rid of default border in Firefox and Opera. */\n",
       "                border: none;\n",
       "                /* Needs to be in here for Safari polyfill so background images work as expected. */\n",
       "                background-size: auto;\n",
       "            }\n",
       "            .progress-bar-interrupted, .progress-bar-interrupted::-webkit-progress-bar {\n",
       "                background: #F44336;\n",
       "            }\n",
       "        </style>\n",
       "      <progress value='100' class='' max='100' style='width:300px; height:20px; vertical-align: middle;'></progress>\n",
       "      100.00% [100/100 00:46<00:00]\n",
       "    </div>\n",
       "    "
      ],
      "text/plain": [
       "<IPython.core.display.HTML object>"
      ]
     },
     "metadata": {},
     "output_type": "display_data"
    },
    {
     "name": "stdout",
     "output_type": "stream",
     "text": [
      "Train Loss: 1.477 | Valid Loss: 0.400\n",
      "F1-Score: 0.548\n"
     ]
    },
    {
     "data": {
      "text/html": [
       "\n",
       "    <div>\n",
       "        <style>\n",
       "            /* Turns off some styling */\n",
       "            progress {\n",
       "                /* gets rid of default border in Firefox and Opera. */\n",
       "                border: none;\n",
       "                /* Needs to be in here for Safari polyfill so background images work as expected. */\n",
       "                background-size: auto;\n",
       "            }\n",
       "            .progress-bar-interrupted, .progress-bar-interrupted::-webkit-progress-bar {\n",
       "                background: #F44336;\n",
       "            }\n",
       "        </style>\n",
       "      <progress value='271' class='' max='271' style='width:300px; height:20px; vertical-align: middle;'></progress>\n",
       "      100.00% [271/271 02:03<00:00]\n",
       "    </div>\n",
       "    "
      ],
      "text/plain": [
       "<IPython.core.display.HTML object>"
      ]
     },
     "metadata": {},
     "output_type": "display_data"
    },
    {
     "name": "stderr",
     "output_type": "stream",
     "text": [
      "100%|██████████| 6499/6499 [00:00<00:00, 256256.58it/s]"
     ]
    },
    {
     "name": "stdout",
     "output_type": "stream",
     "text": [
      "Entropy threshold for sampling: 0.3311169970182134\n",
      "Certain 4801 instances\n"
     ]
    },
    {
     "name": "stderr",
     "output_type": "stream",
     "text": [
      "\n"
     ]
    },
    {
     "data": {
      "text/html": [
       "\n",
       "    <div>\n",
       "        <style>\n",
       "            /* Turns off some styling */\n",
       "            progress {\n",
       "                /* gets rid of default border in Firefox and Opera. */\n",
       "                border: none;\n",
       "                /* Needs to be in here for Safari polyfill so background images work as expected. */\n",
       "                background-size: auto;\n",
       "            }\n",
       "            .progress-bar-interrupted, .progress-bar-interrupted::-webkit-progress-bar {\n",
       "                background: #F44336;\n",
       "            }\n",
       "        </style>\n",
       "      <progress value='100' class='' max='100' style='width:300px; height:20px; vertical-align: middle;'></progress>\n",
       "      100.00% [100/100 00:47<00:00]\n",
       "    </div>\n",
       "    "
      ],
      "text/plain": [
       "<IPython.core.display.HTML object>"
      ]
     },
     "metadata": {},
     "output_type": "display_data"
    },
    {
     "data": {
      "text/html": [
       "\n",
       "    <div>\n",
       "        <style>\n",
       "            /* Turns off some styling */\n",
       "            progress {\n",
       "                /* gets rid of default border in Firefox and Opera. */\n",
       "                border: none;\n",
       "                /* Needs to be in here for Safari polyfill so background images work as expected. */\n",
       "                background-size: auto;\n",
       "            }\n",
       "            .progress-bar-interrupted, .progress-bar-interrupted::-webkit-progress-bar {\n",
       "                background: #F44336;\n",
       "            }\n",
       "        </style>\n",
       "      <progress value='271' class='' max='271' style='width:300px; height:20px; vertical-align: middle;'></progress>\n",
       "      100.00% [271/271 02:03<00:00]\n",
       "    </div>\n",
       "    "
      ],
      "text/plain": [
       "<IPython.core.display.HTML object>"
      ]
     },
     "metadata": {},
     "output_type": "display_data"
    },
    {
     "name": "stderr",
     "output_type": "stream",
     "text": [
      "  0%|          | 4/3150 [00:00<01:21, 38.37it/s]"
     ]
    },
    {
     "name": "stdout",
     "output_type": "stream",
     "text": [
      "Updated to trainset: 2102 neg / 1048 pos\n",
      "**********\n",
      "Active learning iteration: 1\n"
     ]
    },
    {
     "name": "stderr",
     "output_type": "stream",
     "text": [
      "100%|██████████| 3150/3150 [00:39<00:00, 78.94it/s]\n"
     ]
    },
    {
     "name": "stdout",
     "output_type": "stream",
     "text": [
      "Pseudo-labeling 3150 instances: Done\n",
      "Train 3947 neg / 1601 pos\n",
      "Valid 2055 neg / 614 pos\n",
      "Pool 6500 instances\n",
      "**********\n",
      "Training epoch 0 with learning rate 0.00064\n"
     ]
    },
    {
     "data": {
      "text/html": [
       "\n",
       "    <div>\n",
       "        <style>\n",
       "            /* Turns off some styling */\n",
       "            progress {\n",
       "                /* gets rid of default border in Firefox and Opera. */\n",
       "                border: none;\n",
       "                /* Needs to be in here for Safari polyfill so background images work as expected. */\n",
       "                background-size: auto;\n",
       "            }\n",
       "            .progress-bar-interrupted, .progress-bar-interrupted::-webkit-progress-bar {\n",
       "                background: #F44336;\n",
       "            }\n",
       "        </style>\n",
       "      <progress value='232' class='' max='232' style='width:300px; height:20px; vertical-align: middle;'></progress>\n",
       "      100.00% [232/232 02:21<00:00]\n",
       "    </div>\n",
       "    "
      ],
      "text/plain": [
       "<IPython.core.display.HTML object>"
      ]
     },
     "metadata": {},
     "output_type": "display_data"
    },
    {
     "data": {
      "text/html": [
       "\n",
       "    <div>\n",
       "        <style>\n",
       "            /* Turns off some styling */\n",
       "            progress {\n",
       "                /* gets rid of default border in Firefox and Opera. */\n",
       "                border: none;\n",
       "                /* Needs to be in here for Safari polyfill so background images work as expected. */\n",
       "                background-size: auto;\n",
       "            }\n",
       "            .progress-bar-interrupted, .progress-bar-interrupted::-webkit-progress-bar {\n",
       "                background: #F44336;\n",
       "            }\n",
       "        </style>\n",
       "      <progress value='232' class='' max='232' style='width:300px; height:20px; vertical-align: middle;'></progress>\n",
       "      100.00% [232/232 01:45<00:00]\n",
       "    </div>\n",
       "    "
      ],
      "text/plain": [
       "<IPython.core.display.HTML object>"
      ]
     },
     "metadata": {},
     "output_type": "display_data"
    },
    {
     "name": "stdout",
     "output_type": "stream",
     "text": [
      "Train Loss: 0.491 | Valid Loss: 0.473\n",
      "F1-Score: 0.812\n",
      "**********\n",
      "Training epoch 1 with learning rate 0.0005120000000000001\n"
     ]
    },
    {
     "data": {
      "text/html": [
       "\n",
       "    <div>\n",
       "        <style>\n",
       "            /* Turns off some styling */\n",
       "            progress {\n",
       "                /* gets rid of default border in Firefox and Opera. */\n",
       "                border: none;\n",
       "                /* Needs to be in here for Safari polyfill so background images work as expected. */\n",
       "                background-size: auto;\n",
       "            }\n",
       "            .progress-bar-interrupted, .progress-bar-interrupted::-webkit-progress-bar {\n",
       "                background: #F44336;\n",
       "            }\n",
       "        </style>\n",
       "      <progress value='232' class='' max='232' style='width:300px; height:20px; vertical-align: middle;'></progress>\n",
       "      100.00% [232/232 02:21<00:00]\n",
       "    </div>\n",
       "    "
      ],
      "text/plain": [
       "<IPython.core.display.HTML object>"
      ]
     },
     "metadata": {},
     "output_type": "display_data"
    },
    {
     "data": {
      "text/html": [
       "\n",
       "    <div>\n",
       "        <style>\n",
       "            /* Turns off some styling */\n",
       "            progress {\n",
       "                /* gets rid of default border in Firefox and Opera. */\n",
       "                border: none;\n",
       "                /* Needs to be in here for Safari polyfill so background images work as expected. */\n",
       "                background-size: auto;\n",
       "            }\n",
       "            .progress-bar-interrupted, .progress-bar-interrupted::-webkit-progress-bar {\n",
       "                background: #F44336;\n",
       "            }\n",
       "        </style>\n",
       "      <progress value='232' class='' max='232' style='width:300px; height:20px; vertical-align: middle;'></progress>\n",
       "      100.00% [232/232 01:44<00:00]\n",
       "    </div>\n",
       "    "
      ],
      "text/plain": [
       "<IPython.core.display.HTML object>"
      ]
     },
     "metadata": {},
     "output_type": "display_data"
    },
    {
     "name": "stdout",
     "output_type": "stream",
     "text": [
      "Train Loss: 0.513 | Valid Loss: 0.475\n",
      "F1-Score: 0.823\n"
     ]
    },
    {
     "data": {
      "text/html": [
       "\n",
       "    <div>\n",
       "        <style>\n",
       "            /* Turns off some styling */\n",
       "            progress {\n",
       "                /* gets rid of default border in Firefox and Opera. */\n",
       "                border: none;\n",
       "                /* Needs to be in here for Safari polyfill so background images work as expected. */\n",
       "                background-size: auto;\n",
       "            }\n",
       "            .progress-bar-interrupted, .progress-bar-interrupted::-webkit-progress-bar {\n",
       "                background: #F44336;\n",
       "            }\n",
       "        </style>\n",
       "      <progress value='271' class='' max='271' style='width:300px; height:20px; vertical-align: middle;'></progress>\n",
       "      100.00% [271/271 01:59<00:00]\n",
       "    </div>\n",
       "    "
      ],
      "text/plain": [
       "<IPython.core.display.HTML object>"
      ]
     },
     "metadata": {},
     "output_type": "display_data"
    },
    {
     "name": "stderr",
     "output_type": "stream",
     "text": [
      "100%|██████████| 6500/6500 [00:00<00:00, 248801.99it/s]"
     ]
    },
    {
     "name": "stdout",
     "output_type": "stream",
     "text": [
      "Entropy threshold for sampling: 0.33479318928491564\n",
      "Certain 6122 instances\n"
     ]
    },
    {
     "name": "stderr",
     "output_type": "stream",
     "text": [
      "\n"
     ]
    },
    {
     "data": {
      "text/html": [
       "\n",
       "    <div>\n",
       "        <style>\n",
       "            /* Turns off some styling */\n",
       "            progress {\n",
       "                /* gets rid of default border in Firefox and Opera. */\n",
       "                border: none;\n",
       "                /* Needs to be in here for Safari polyfill so background images work as expected. */\n",
       "                background-size: auto;\n",
       "            }\n",
       "            .progress-bar-interrupted, .progress-bar-interrupted::-webkit-progress-bar {\n",
       "                background: #F44336;\n",
       "            }\n",
       "        </style>\n",
       "      <progress value='232' class='' max='232' style='width:300px; height:20px; vertical-align: middle;'></progress>\n",
       "      100.00% [232/232 01:45<00:00]\n",
       "    </div>\n",
       "    "
      ],
      "text/plain": [
       "<IPython.core.display.HTML object>"
      ]
     },
     "metadata": {},
     "output_type": "display_data"
    },
    {
     "data": {
      "text/html": [
       "\n",
       "    <div>\n",
       "        <style>\n",
       "            /* Turns off some styling */\n",
       "            progress {\n",
       "                /* gets rid of default border in Firefox and Opera. */\n",
       "                border: none;\n",
       "                /* Needs to be in here for Safari polyfill so background images work as expected. */\n",
       "                background-size: auto;\n",
       "            }\n",
       "            .progress-bar-interrupted, .progress-bar-interrupted::-webkit-progress-bar {\n",
       "                background: #F44336;\n",
       "            }\n",
       "        </style>\n",
       "      <progress value='271' class='' max='271' style='width:300px; height:20px; vertical-align: middle;'></progress>\n",
       "      100.00% [271/271 02:05<00:00]\n",
       "    </div>\n",
       "    "
      ],
      "text/plain": [
       "<IPython.core.display.HTML object>"
      ]
     },
     "metadata": {},
     "output_type": "display_data"
    },
    {
     "name": "stderr",
     "output_type": "stream",
     "text": [
      "  0%|          | 8/5469 [00:00<01:15, 72.48it/s]"
     ]
    },
    {
     "name": "stdout",
     "output_type": "stream",
     "text": [
      "Updated to trainset: 2545 neg / 2924 pos\n",
      "**********\n",
      "Active learning iteration: 2\n"
     ]
    },
    {
     "name": "stderr",
     "output_type": "stream",
     "text": [
      "100%|██████████| 5469/5469 [01:08<00:00, 80.13it/s]\n"
     ]
    },
    {
     "name": "stdout",
     "output_type": "stream",
     "text": [
      "Pseudo-labeling 5469 instances: Done\n",
      "Train 6492 neg / 4525 pos\n",
      "Valid 2055 neg / 614 pos\n",
      "Pool 6500 instances\n",
      "**********\n",
      "Training epoch 0 with learning rate 0.0004096000000000001\n"
     ]
    },
    {
     "data": {
      "text/html": [
       "\n",
       "    <div>\n",
       "        <style>\n",
       "            /* Turns off some styling */\n",
       "            progress {\n",
       "                /* gets rid of default border in Firefox and Opera. */\n",
       "                border: none;\n",
       "                /* Needs to be in here for Safari polyfill so background images work as expected. */\n",
       "                background-size: auto;\n",
       "            }\n",
       "            .progress-bar-interrupted, .progress-bar-interrupted::-webkit-progress-bar {\n",
       "                background: #F44336;\n",
       "            }\n",
       "        </style>\n",
       "      <progress value='460' class='' max='460' style='width:300px; height:20px; vertical-align: middle;'></progress>\n",
       "      100.00% [460/460 04:35<00:00]\n",
       "    </div>\n",
       "    "
      ],
      "text/plain": [
       "<IPython.core.display.HTML object>"
      ]
     },
     "metadata": {},
     "output_type": "display_data"
    },
    {
     "data": {
      "text/html": [
       "\n",
       "    <div>\n",
       "        <style>\n",
       "            /* Turns off some styling */\n",
       "            progress {\n",
       "                /* gets rid of default border in Firefox and Opera. */\n",
       "                border: none;\n",
       "                /* Needs to be in here for Safari polyfill so background images work as expected. */\n",
       "                background-size: auto;\n",
       "            }\n",
       "            .progress-bar-interrupted, .progress-bar-interrupted::-webkit-progress-bar {\n",
       "                background: #F44336;\n",
       "            }\n",
       "        </style>\n",
       "      <progress value='460' class='' max='460' style='width:300px; height:20px; vertical-align: middle;'></progress>\n",
       "      100.00% [460/460 03:26<00:00]\n",
       "    </div>\n",
       "    "
      ],
      "text/plain": [
       "<IPython.core.display.HTML object>"
      ]
     },
     "metadata": {},
     "output_type": "display_data"
    },
    {
     "name": "stdout",
     "output_type": "stream",
     "text": [
      "Train Loss: 0.240 | Valid Loss: 0.469\n",
      "F1-Score: 0.912\n",
      "**********\n",
      "Training epoch 1 with learning rate 0.0003276800000000001\n"
     ]
    },
    {
     "data": {
      "text/html": [
       "\n",
       "    <div>\n",
       "        <style>\n",
       "            /* Turns off some styling */\n",
       "            progress {\n",
       "                /* gets rid of default border in Firefox and Opera. */\n",
       "                border: none;\n",
       "                /* Needs to be in here for Safari polyfill so background images work as expected. */\n",
       "                background-size: auto;\n",
       "            }\n",
       "            .progress-bar-interrupted, .progress-bar-interrupted::-webkit-progress-bar {\n",
       "                background: #F44336;\n",
       "            }\n",
       "        </style>\n",
       "      <progress value='460' class='' max='460' style='width:300px; height:20px; vertical-align: middle;'></progress>\n",
       "      100.00% [460/460 04:33<00:00]\n",
       "    </div>\n",
       "    "
      ],
      "text/plain": [
       "<IPython.core.display.HTML object>"
      ]
     },
     "metadata": {},
     "output_type": "display_data"
    },
    {
     "data": {
      "text/html": [
       "\n",
       "    <div>\n",
       "        <style>\n",
       "            /* Turns off some styling */\n",
       "            progress {\n",
       "                /* gets rid of default border in Firefox and Opera. */\n",
       "                border: none;\n",
       "                /* Needs to be in here for Safari polyfill so background images work as expected. */\n",
       "                background-size: auto;\n",
       "            }\n",
       "            .progress-bar-interrupted, .progress-bar-interrupted::-webkit-progress-bar {\n",
       "                background: #F44336;\n",
       "            }\n",
       "        </style>\n",
       "      <progress value='440' class='' max='460' style='width:300px; height:20px; vertical-align: middle;'></progress>\n",
       "      95.65% [440/460 03:19<00:09]\n",
       "    </div>\n",
       "    "
      ],
      "text/plain": [
       "<IPython.core.display.HTML object>"
      ]
     },
     "metadata": {},
     "output_type": "display_data"
    }
   ],
   "source": [
    "for ratio in sorted(list(np.array(list(range(3,10)))*0.1),reverse=True):\n",
    "    \n",
    "    config['used'] = int((1-ratio)*24000)\n",
    "    config['anno_ratio'] = ratio\n",
    "    config['thresh'] = None\n",
    "\n",
    "    print('='*80)\n",
    "    print('Experiments with {} samples annotation'.format(str(config['used'])))\n",
    "\n",
    "    df_concat = prepare_dataframe(config)\n",
    "\n",
    "    fnames, labels = [], [] \n",
    "\n",
    "    for ite in range(config['nb_iterations']):\n",
    "\n",
    "        if len(df_concat[df_concat['is_anno']==False]) != 0:\n",
    "\n",
    "            print('*'*10)\n",
    "            print('Active learning iteration: {}'.format(str(ite)))\n",
    "\n",
    "            df_concat = query_update(df_concat, fnames, labels)\n",
    "\n",
    "            ## each iterations samples 6500 instances from the pool\n",
    "    \n",
    "            anno_train_dl, anno_valid_dl, pool_dl = create_dls(df_concat)\n",
    "        \n",
    "            ## create Learner with dls_anno & model\n",
    "            ## training with momentum Online Active learning\n",
    "            \n",
    "            if ite == 0:\n",
    "                model = customNet(output_nodes=1)\n",
    "                \n",
    "                config['lr'] = 1e-3\n",
    "                \n",
    "                optimizer = torch.optim.Adam(model.parameters(), lr=config['lr'])\n",
    "                \n",
    "                exp_lr_sch = lr_scheduler.StepLR(optimizer, \n",
    "                                                 step_size=config['step_size_lr'], \n",
    "                                                 gamma=config['sch_lr'])\n",
    "            \n",
    "            for epoch in range(config['epochs']):\n",
    "                print('*'*10)\n",
    "                print('Training epoch {0} with learning rate {1}'\n",
    "                      .format(str(epoch),optimizer.param_groups[0]['lr'])\n",
    "                     )\n",
    "\n",
    "                loss_train = train_one(model, \n",
    "                                       optimizer, \n",
    "                                       device, \n",
    "                                       anno_train_dl, \n",
    "                                       df_concat, \n",
    "                                       is_goal=False, \n",
    "                                       balance = True)                \n",
    "                \n",
    "                valid_score, valid_fnames, loss_valid, f1 = eval_one(model, \n",
    "                                                                     device, \n",
    "                                                                     anno_train_dl, \n",
    "                                                                     config['thres'],\n",
    "                                                                     balance = False)\n",
    "                \n",
    "                print(f'Train Loss: {loss_train:.3f} | Valid Loss: {loss_valid:.3f}')\n",
    "                print(f'F1-Score: {f1:.3f}')\n",
    "                \n",
    "                exp_lr_sch.step()\n",
    "            \n",
    "            ## Query stratifies using pool dataloader\n",
    "            \n",
    "            pool_score, pool_fnames, pool_preds = pred_pool(model, device, pool_dl)\n",
    "            \n",
    "            entropies = entropy(pool_score)\n",
    "            \n",
    "            idx_certain, config['thresh'] = certain_set(entropies, \n",
    "                                        config['thresh'], \n",
    "                                        config['initial_decay_rate'], \n",
    "                                        config['decay_rate'])\n",
    "\n",
    "            print('Entropy threshold for sampling: {}'.format(str(config['thresh'])))\n",
    "            print('Certain {} instances'.format(str(idx_certain.shape[0])))\n",
    "            \n",
    "            if idx_certain.shape[0] != 0:\n",
    "                ## Sampling high confidence score as certain instances\n",
    "\n",
    "                X_certain = np.array(pool_fnames)[idx_certain].tolist()\n",
    "\n",
    "                X_gist, y_gist = gist_selection(X_certain, model, pool_preds, anno_train_dl, pool_dl)\n",
    "\n",
    "                fnames = X_gist.tolist()\n",
    "                labels = y_gist.tolist()\n",
    "\n",
    "                print(\"Updated to trainset: {0} neg / {1} pos\"\n",
    "                      .format(str(labels.count(0)),str(labels.count(1)))\n",
    "                     )\n",
    "\n",
    "                if labels.count(0) == labels.count(1) and labels.count(0) == 0:\n",
    "                    continue\n",
    "            else:\n",
    "                break\n",
    "        else:\n",
    "            break"
   ]
  }
 ],
 "metadata": {
  "kernelspec": {
   "display_name": "Python 3",
   "language": "python",
   "name": "python3"
  },
  "language_info": {
   "codemirror_mode": {
    "name": "ipython",
    "version": 3
   },
   "file_extension": ".py",
   "mimetype": "text/x-python",
   "name": "python",
   "nbconvert_exporter": "python",
   "pygments_lexer": "ipython3",
   "version": "3.7.10"
  }
 },
 "nbformat": 4,
 "nbformat_minor": 4
}
